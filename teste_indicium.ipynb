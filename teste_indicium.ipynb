{
  "nbformat": 4,
  "nbformat_minor": 0,
  "metadata": {
    "colab": {
      "name": "teste_indicium.ipynb",
      "provenance": [],
      "authorship_tag": "ABX9TyOCd+PaQflg78unFsxl86DX",
      "include_colab_link": true
    },
    "kernelspec": {
      "name": "python3",
      "display_name": "Python 3"
    },
    "language_info": {
      "name": "python"
    }
  },
  "cells": [
    {
      "cell_type": "markdown",
      "metadata": {
        "id": "view-in-github",
        "colab_type": "text"
      },
      "source": [
        "<a href=\"https://colab.research.google.com/github/c-Tos1wa/predict_yearly_wage/blob/main/teste_indicium.ipynb\" target=\"_parent\"><img src=\"https://colab.research.google.com/assets/colab-badge.svg\" alt=\"Open In Colab\"/></a>"
      ]
    },
    {
      "cell_type": "markdown",
      "source": [
        "1 - Importa os dados para o Google Colab"
      ],
      "metadata": {
        "id": "QTdzdojF3flE"
      }
    },
    {
      "cell_type": "code",
      "execution_count": null,
      "metadata": {
        "id": "0JFkM1DV218L"
      },
      "outputs": [],
      "source": [
        ""
      ]
    }
  ]
}